{
  "nbformat": 4,
  "nbformat_minor": 0,
  "metadata": {
    "colab": {
      "provenance": []
    },
    "kernelspec": {
      "name": "python3",
      "display_name": "Python 3"
    },
    "language_info": {
      "name": "python"
    }
  },
  "cells": [
    {
      "cell_type": "markdown",
      "source": [
        "![download.jpg](data:image/jpeg;base64,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)"
      ],
      "metadata": {
        "id": "CA9Hno5BeXxU"
      }
    },
    {
      "cell_type": "markdown",
      "source": [
        "[Whisper Link](https://github.com/openai/whisper)"
      ],
      "metadata": {
        "id": "CcW8ga2VejGF"
      }
    },
    {
      "cell_type": "code",
      "execution_count": null,
      "metadata": {
        "id": "d1SW-q7dcrTn"
      },
      "outputs": [],
      "source": [
        "pip install git+https://github.com/openai/whisper.git"
      ]
    },
    {
      "cell_type": "code",
      "source": [
        "import whisper\n",
        "\n",
        "model = whisper.load_model(\"base\")\n",
        "result = model.transcribe(\"/content/audio.mp4\")\n",
        "print(result[\"text\"])"
      ],
      "metadata": {
        "colab": {
          "base_uri": "https://localhost:8080/"
        },
        "id": "p5kL5iHCdnHC",
        "outputId": "26f35faf-c3a6-4994-8f15-ebaf0a1207b0"
      },
      "execution_count": 4,
      "outputs": [
        {
          "output_type": "stream",
          "name": "stderr",
          "text": [
            "/usr/local/lib/python3.10/dist-packages/whisper/transcribe.py:114: UserWarning: FP16 is not supported on CPU; using FP32 instead\n",
            "  warnings.warn(\"FP16 is not supported on CPU; using FP32 instead\")\n"
          ]
        },
        {
          "output_type": "stream",
          "name": "stdout",
          "text": [
            " Interview m. Pooche jane wala interviewer ka one of the favourite question. What are the assumptions of linear regression? Number 1 Independent or dependent variable ke beach mein linear relationship huna chai ye. Number 2 Kise bhi do independent variable ke beach mein ko bhi korelishan nahi huna chai ye. Number 3 Jha bhi hum rasidhu wala ka plot karay to wo ek bal shabt ka huna chai ye. Jis ka chun chubh miin hoga wo lagbhak zero huna chai ye. Rai chai ye.\n"
          ]
        }
      ]
    },
    {
      "cell_type": "markdown",
      "source": [
        "Interview m. Pooche jane wala interviewer ka one of the favourite question. What are the assumptions of linear regression? Number 1 Independent or dependent variable ke beach mein linear relationship huna chai ye. Number 2 Kise bhi do independent variable ke beach mein ko bhi korelishan nahi huna chai ye. Number 3 Jha bhi hum rasidhu wala ka plot karay to wo ek bal shabt ka huna chai ye. Jis ka chun chubh miin hoga wo lagbhak zero huna chai ye. Rai chai ye."
      ],
      "metadata": {
        "id": "jRqXJKBjhpUG"
      }
    }
  ]
}